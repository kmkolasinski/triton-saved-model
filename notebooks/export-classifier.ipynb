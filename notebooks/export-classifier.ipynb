{
 "cells": [
  {
   "cell_type": "code",
   "execution_count": null,
   "metadata": {},
   "outputs": [],
   "source": [
    "import tensorflow as tf"
   ]
  },
  {
   "cell_type": "code",
   "execution_count": null,
   "metadata": {},
   "outputs": [],
   "source": [
    "tf.keras.mixed_precision.set_global_policy('mixed_float16')\n",
    "\n",
    "backbone = tf.keras.applications.ResNet50(include_top=True, weights='imagenet', input_shape=(224, 224, 3))\n",
    "backbone.summary()"
   ]
  },
  {
   "cell_type": "code",
   "execution_count": 3,
   "metadata": {},
   "outputs": [],
   "source": [
    "model = tf.keras.Model(\n",
    "    inputs=backbone.input,\n",
    "    outputs={\n",
    "        \"logits\": backbone.output,\n",
    "        \"embeddings\": backbone.get_layer(\"avg_pool\").output,\n",
    "    },\n",
    ")"
   ]
  },
  {
   "cell_type": "code",
   "execution_count": 24,
   "metadata": {},
   "outputs": [],
   "source": [
    "class Classifier(tf.Module):\n",
    "\n",
    "    def __init__(self, model: tf.keras.Model, input_size: tuple[int, int], jit_compile: bool = False):\n",
    "        super(Classifier, self).__init__()\n",
    "        self.model = model\n",
    "        self.jit_compile = jit_compile\n",
    "        self.input_size = input_size\n",
    "\n",
    "    def get_model_predict_fn(self):\n",
    "        if not self.jit_compile:\n",
    "            return self.model\n",
    "        return tf.function(\n",
    "            self.model,\n",
    "            jit_compile=True,\n",
    "            input_signature=[tf.TensorSpec([None, *self.input_size, 3], tf.float32)],\n",
    "        )\n",
    "\n",
    "    def postprocess(self, predictions: dict[str, tf.Tensor]) -> dict[str, tf.Tensor]:\n",
    "\n",
    "        logits = tf.cast(predictions[\"logits\"], tf.float32)\n",
    "        probs = tf.nn.softmax(logits, axis=-1)\n",
    "        scores = tf.reduce_max(probs, axis=-1)\n",
    "        classes = tf.argmax(probs, axis=-1)\n",
    "\n",
    "        outputs = {\n",
    "            \"scores\": scores,\n",
    "            \"classes\": classes,\n",
    "            \"embeddings\": tf.cast(predictions[\"embeddings\"], tf.float32),\n",
    "        }\n",
    "        return outputs\n",
    "\n",
    "    @tf.function(input_signature=[tf.TensorSpec([None, None, None, 3], tf.uint8)])\n",
    "    def predict_images(self, images: tf.Tensor) -> dict[str, tf.Tensor]:\n",
    "        images = tf.cast(images, tf.float32) / 255.0\n",
    "        images = tf.image.resize(images, self.input_size)\n",
    "        predictor = self.get_model_predict_fn()\n",
    "        predictions = predictor(images)\n",
    "        return self.postprocess(predictions)\n",
    "\n",
    "    @tf.function(input_signature=[tf.TensorSpec([], tf.string)])\n",
    "    def predict_jpeg(self, jpeg_image: tf.Tensor) -> dict[str, tf.Tensor]:\n",
    "        images = tf.image.decode_jpeg(jpeg_image, channels=3)\n",
    "        images = tf.expand_dims(images, axis=0)\n",
    "        return self.predict_images(images)\n",
    "\n",
    "    def export(self, save_dir: str) -> str:\n",
    "        signatures = {\n",
    "            \"predict_images\": self.predict_images.get_concrete_function(),\n",
    "            \"predict_jpeg\": self.predict_jpeg.get_concrete_function(),\n",
    "        }\n",
    "        return tf.saved_model.save(self, save_dir, signatures=signatures)\n",
    "\n",
    "module = Classifier(model, (224, 224))"
   ]
  },
  {
   "cell_type": "code",
   "execution_count": 20,
   "metadata": {},
   "outputs": [
    {
     "data": {
      "text/plain": [
       "{'scores': <tf.Tensor: shape=(1,), dtype=float32, numpy=array([0.001121], dtype=float32)>,\n",
       " 'classes': <tf.Tensor: shape=(1,), dtype=int64, numpy=array([111])>,\n",
       " 'embeddings': <tf.Tensor: shape=(1, 2048), dtype=float32, numpy=\n",
       " array([[0.       , 0.       , 0.       , ..., 1.5585938, 0.       ,\n",
       "         0.       ]], dtype=float32)>}"
      ]
     },
     "execution_count": 20,
     "metadata": {},
     "output_type": "execute_result"
    }
   ],
   "source": [
    "images = tf.random.uniform((1, 224, 224, 3), minval=0, maxval=255, dtype=tf.int32)\n",
    "images = tf.cast(images, tf.uint8)\n",
    "module.predict_images(images)"
   ]
  },
  {
   "cell_type": "code",
   "execution_count": 21,
   "metadata": {},
   "outputs": [
    {
     "name": "stdout",
     "output_type": "stream",
     "text": [
      "2.62 ms ± 261 µs per loop (mean ± std. dev. of 7 runs, 100 loops each)\n"
     ]
    }
   ],
   "source": [
    "%timeit module.predict_images(images)"
   ]
  },
  {
   "cell_type": "code",
   "execution_count": 22,
   "metadata": {},
   "outputs": [
    {
     "data": {
      "text/plain": [
       "{'scores': <tf.Tensor: shape=(1,), dtype=float32, numpy=array([0.00111377], dtype=float32)>,\n",
       " 'classes': <tf.Tensor: shape=(1,), dtype=int64, numpy=array([111])>,\n",
       " 'embeddings': <tf.Tensor: shape=(1, 2048), dtype=float32, numpy=\n",
       " array([[0.       , 0.       , 0.       , ..., 1.5390625, 0.       ,\n",
       "         0.       ]], dtype=float32)>}"
      ]
     },
     "execution_count": 22,
     "metadata": {},
     "output_type": "execute_result"
    }
   ],
   "source": [
    "jpeg_image = tf.image.encode_jpeg(images[0])\n",
    "module.predict_jpeg(jpeg_image)"
   ]
  },
  {
   "cell_type": "code",
   "execution_count": 23,
   "metadata": {},
   "outputs": [
    {
     "name": "stdout",
     "output_type": "stream",
     "text": [
      "2.67 ms ± 231 µs per loop (mean ± std. dev. of 7 runs, 100 loops each)\n"
     ]
    }
   ],
   "source": [
    "%timeit module.predict_jpeg(jpeg_image)"
   ]
  },
  {
   "cell_type": "code",
   "execution_count": 26,
   "metadata": {},
   "outputs": [],
   "source": [
    "def build_and_export_classifier(\n",
    "    backbone_class: tf.keras.Model,\n",
    "    save_dir: str,\n",
    "    jit_compile: bool = False,\n",
    "    mixed_precision: bool = False,\n",
    "    input_size: tuple[int, int] = (224, 224),\n",
    "):\n",
    "    if mixed_precision:\n",
    "        tf.keras.mixed_precision.set_global_policy('mixed_float16')\n",
    "    else:\n",
    "        tf.keras.mixed_precision.set_global_policy('float32')\n",
    "\n",
    "    backbone = backbone_class(\n",
    "        include_top=True, weights=\"imagenet\", input_shape=(*input_size, 3)\n",
    "    )\n",
    "    model = tf.keras.Model(\n",
    "        inputs=backbone.input,\n",
    "        outputs={\n",
    "            \"logits\": backbone.output,\n",
    "            \"embeddings\": backbone.get_layer(\"avg_pool\").output,\n",
    "        },\n",
    "    )\n",
    "    module = Classifier(model, input_size, jit_compile=jit_compile)\n",
    "    return module.export(save_dir)"
   ]
  },
  {
   "cell_type": "code",
   "execution_count": 28,
   "metadata": {},
   "outputs": [
    {
     "name": "stdout",
     "output_type": "stream",
     "text": [
      "INFO:tensorflow:Assets written to: ../data/resnet50-xla-amp/1/assets\n"
     ]
    },
    {
     "name": "stderr",
     "output_type": "stream",
     "text": [
      "INFO:tensorflow:Assets written to: ../data/resnet50-xla-amp/1/assets\n"
     ]
    },
    {
     "name": "stdout",
     "output_type": "stream",
     "text": [
      "INFO:tensorflow:Assets written to: ../data/resnet50-no-opt/1/assets\n"
     ]
    },
    {
     "name": "stderr",
     "output_type": "stream",
     "text": [
      "INFO:tensorflow:Assets written to: ../data/resnet50-no-opt/1/assets\n"
     ]
    }
   ],
   "source": [
    "build_and_export_classifier(tf.keras.applications.ResNet50, \"../data/resnet50-xla-amp/1\", jit_compile=True, mixed_precision=True)\n",
    "build_and_export_classifier(tf.keras.applications.ResNet50, \"../data/resnet50-no-opt/1\", jit_compile=False, mixed_precision=False)"
   ]
  },
  {
   "cell_type": "code",
   "execution_count": 34,
   "metadata": {},
   "outputs": [
    {
     "name": "stdout",
     "output_type": "stream",
     "text": [
      "INFO:tensorflow:Assets written to: ../data/efficientnetb0-xla-amp/1/assets\n"
     ]
    },
    {
     "name": "stderr",
     "output_type": "stream",
     "text": [
      "INFO:tensorflow:Assets written to: ../data/efficientnetb0-xla-amp/1/assets\n"
     ]
    },
    {
     "name": "stdout",
     "output_type": "stream",
     "text": [
      "INFO:tensorflow:Assets written to: ../data/efficientnetb0-no-opt/1/assets\n"
     ]
    },
    {
     "name": "stderr",
     "output_type": "stream",
     "text": [
      "INFO:tensorflow:Assets written to: ../data/efficientnetb0-no-opt/1/assets\n"
     ]
    }
   ],
   "source": [
    "build_and_export_classifier(tf.keras.applications.EfficientNetB0, \"../data/efficientnetb0-xla-amp/1\", jit_compile=True, mixed_precision=True)\n",
    "build_and_export_classifier(tf.keras.applications.EfficientNetB0, \"../data/efficientnetb0-no-opt/1\", jit_compile=False, mixed_precision=False)"
   ]
  },
  {
   "cell_type": "code",
   "execution_count": null,
   "metadata": {},
   "outputs": [],
   "source": [
    "import tensorflow as tf\n",
    "import ops"
   ]
  },
  {
   "cell_type": "code",
   "execution_count": 3,
   "metadata": {},
   "outputs": [
    {
     "name": "stdout",
     "output_type": "stream",
     "text": [
      "Loading model: ../data/resnet50-no-opt/1\n"
     ]
    },
    {
     "name": "stderr",
     "output_type": "stream",
     "text": [
      "../data/resnet50-no-opt/1: 100%|██████████| 500/500 [00:57<00:00,  8.66it/s]\n"
     ]
    },
    {
     "name": "stdout",
     "output_type": "stream",
     "text": [
      "Loading model: ../data/resnet50-xla-amp/1\n"
     ]
    },
    {
     "name": "stderr",
     "output_type": "stream",
     "text": [
      "2024-04-07 08:19:40.445034: W tensorflow/core/grappler/costs/op_level_cost_estimator.cc:693] Error in PredictCost() for the op: op: \"Softmax\" attr { key: \"T\" value { type: DT_FLOAT } } inputs { dtype: DT_FLOAT shape { unknown_rank: true } } device { type: \"GPU\" vendor: \"NVIDIA\" model: \"NVIDIA RTX A4000 Laptop GPU\" frequency: 1680 num_cores: 40 environment { key: \"architecture\" value: \"8.6\" } environment { key: \"cuda\" value: \"11080\" } environment { key: \"cudnn\" value: \"8600\" } num_registers: 65536 l1_cache_size: 24576 l2_cache_size: 4194304 shared_memory_size_per_multiprocessor: 102400 memory_size: 5849612288 bandwidth: 384064000 } outputs { dtype: DT_FLOAT shape { unknown_rank: true } }\n",
      "../data/resnet50-xla-amp/1: 100%|██████████| 500/500 [00:20<00:00, 24.49it/s]\n"
     ]
    },
    {
     "name": "stdout",
     "output_type": "stream",
     "text": [
      "Loading model: ../data/efficientnetb0-no-opt/1\n"
     ]
    },
    {
     "name": "stderr",
     "output_type": "stream",
     "text": [
      "../data/efficientnetb0-no-opt/1: 100%|██████████| 500/500 [00:52<00:00,  9.55it/s]\n"
     ]
    },
    {
     "name": "stdout",
     "output_type": "stream",
     "text": [
      "Loading model: ../data/efficientnetb0-xla-amp/1\n"
     ]
    },
    {
     "name": "stderr",
     "output_type": "stream",
     "text": [
      "2024-04-07 08:21:03.270982: W tensorflow/core/grappler/costs/op_level_cost_estimator.cc:693] Error in PredictCost() for the op: op: \"Softmax\" attr { key: \"T\" value { type: DT_FLOAT } } inputs { dtype: DT_FLOAT shape { unknown_rank: true } } device { type: \"GPU\" vendor: \"NVIDIA\" model: \"NVIDIA RTX A4000 Laptop GPU\" frequency: 1680 num_cores: 40 environment { key: \"architecture\" value: \"8.6\" } environment { key: \"cuda\" value: \"11080\" } environment { key: \"cudnn\" value: \"8600\" } num_registers: 65536 l1_cache_size: 24576 l2_cache_size: 4194304 shared_memory_size_per_multiprocessor: 102400 memory_size: 5849612288 bandwidth: 384064000 } outputs { dtype: DT_FLOAT shape { unknown_rank: true } }\n",
      "../data/efficientnetb0-xla-amp/1: 100%|██████████| 500/500 [00:13<00:00, 38.08it/s]\n"
     ]
    }
   ],
   "source": [
    "models = [\n",
    "    \"../data/resnet50-no-opt/1\",\n",
    "    \"../data/resnet50-xla-amp/1\",\n",
    "    \"../data/efficientnetb0-no-opt/1\",\n",
    "    \"../data/efficientnetb0-xla-amp/1\",\n",
    "]\n",
    "\n",
    "\n",
    "for model in models:\n",
    "    print(f\"Loading model: {model}\")\n",
    "    predictor = tf.saved_model.load(model)\n",
    "    # warmup\n",
    "    images = tf.random.uniform((100, 224, 224, 3), minval=0, maxval=255, dtype=tf.int32)\n",
    "    images = tf.cast(images, tf.uint8)\n",
    "    predictor.predict_images(images)\n",
    "    # benchmark\n",
    "    images = tf.random.uniform((100, 224, 224, 3), minval=0, maxval=255, dtype=tf.int32)\n",
    "    images = tf.cast(images, tf.uint8)\n",
    "\n",
    "    def predict_fn(_):\n",
    "        predictor.predict_images(images)\n",
    "\n",
    "    _ = ops.thread_imap1(predict_fn, list(range(500)), num_workers=1, desc=model)"
   ]
  }
 ],
 "metadata": {
  "kernelspec": {
   "display_name": "ml3.11",
   "language": "python",
   "name": "python3"
  },
  "language_info": {
   "codemirror_mode": {
    "name": "ipython",
    "version": 3
   },
   "file_extension": ".py",
   "mimetype": "text/x-python",
   "name": "python",
   "nbconvert_exporter": "python",
   "pygments_lexer": "ipython3",
   "version": "3.11.4"
  }
 },
 "nbformat": 4,
 "nbformat_minor": 2
}
