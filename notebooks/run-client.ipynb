{
 "cells": [
  {
   "cell_type": "markdown",
   "metadata": {},
   "source": [
    "Resources:\n",
    "* https://github.com/triton-inference-server/python_backend?tab=readme-ov-file#auto_complete_config\n",
    "* https://github.com/triton-inference-server/python_backend/blob/29cb0f2570dcf411f4c457ea026676e020901460/src/resources/triton_python_backend_utils.py#L122"
   ]
  },
  {
   "cell_type": "code",
   "execution_count": 1,
   "metadata": {},
   "outputs": [
    {
     "name": "stdout",
     "output_type": "stream",
     "text": [
      "The autoreload extension is already loaded. To reload it, use:\n",
      "  %reload_ext autoreload\n"
     ]
    }
   ],
   "source": [
    "%load_ext autoreload\n",
    "%autoreload 2"
   ]
  },
  {
   "cell_type": "markdown",
   "metadata": {},
   "source": [
    "# Testing Triton server\n",
    "\n",
    "```\n",
    "docker compose up triton_server\n",
    "```"
   ]
  },
  {
   "cell_type": "code",
   "execution_count": 3,
   "metadata": {},
   "outputs": [],
   "source": [
    "import ops\n",
    "import os\n",
    "import tensorflow as tf\n",
    "import numpy as np\n",
    "\n",
    "os.environ[\"CUDA_VISIBLE_DEVICES\"] = \"-1\""
   ]
  },
  {
   "cell_type": "code",
   "execution_count": 5,
   "metadata": {},
   "outputs": [],
   "source": [
    "images = tf.random.uniform((100, 224, 224, 3), minval=0, maxval=255, dtype=tf.int32)\n",
    "images = tf.cast(images, tf.uint8)\n",
    "jpeg_image = tf.image.encode_jpeg(images[0]).numpy()"
   ]
  },
  {
   "cell_type": "code",
   "execution_count": 6,
   "metadata": {},
   "outputs": [
    {
     "data": {
      "text/plain": [
       "array([0.001123  , 0.00112003, 0.00112299, 0.00111931, 0.00112378,\n",
       "       0.00112881, 0.00112312, 0.00112267, 0.00112317, 0.00111989,\n",
       "       0.00112083, 0.00111249, 0.00112129, 0.00112692, 0.00111697,\n",
       "       0.00112269, 0.00111806, 0.0011159 , 0.00112861, 0.00112298,\n",
       "       0.00112537, 0.00111864, 0.00111838, 0.00112509, 0.00111958,\n",
       "       0.00111743, 0.00112137, 0.00111658, 0.00112167, 0.001124  ,\n",
       "       0.00112375, 0.00112685, 0.00112421, 0.00111854, 0.00111348,\n",
       "       0.00112904, 0.00112142, 0.00112101, 0.00111753, 0.00112497,\n",
       "       0.00112569, 0.00111861, 0.00111691, 0.00111931, 0.001125  ,\n",
       "       0.00112395, 0.00112398, 0.00112087, 0.00111862, 0.00112673,\n",
       "       0.00111615, 0.0011141 , 0.00111529, 0.0011194 , 0.00112181,\n",
       "       0.00111785, 0.00112357, 0.00112237, 0.00112502, 0.00112025,\n",
       "       0.0011218 , 0.00111958, 0.0011234 , 0.00112008, 0.00111711,\n",
       "       0.00112081, 0.00111542, 0.00111669, 0.00112142, 0.00112357,\n",
       "       0.00112134, 0.00111784, 0.00111879, 0.00112036, 0.00112123,\n",
       "       0.00111989, 0.00112361, 0.00111911, 0.00112278, 0.00112076,\n",
       "       0.00111986, 0.00112697, 0.00112103, 0.001112  , 0.00112027,\n",
       "       0.00112113, 0.00112066, 0.00112293, 0.00111753, 0.0011244 ,\n",
       "       0.0011224 , 0.001116  , 0.00111937, 0.00112246, 0.00112003,\n",
       "       0.00112881, 0.00111553, 0.00111815, 0.00111408, 0.00111471],\n",
       "      dtype=float32)"
      ]
     },
     "execution_count": 6,
     "metadata": {},
     "output_type": "execute_result"
    }
   ],
   "source": [
    "resnet50_no_opt_client = ops.TritonSavedModelClient(\"resnet50-no-opt\")\n",
    "result = resnet50_no_opt_client.predict(\"predict_images\", images=images)\n",
    "result.as_numpy(\"scores\")"
   ]
  },
  {
   "cell_type": "code",
   "execution_count": 7,
   "metadata": {},
   "outputs": [
    {
     "data": {
      "text/plain": [
       "array([0.00111299], dtype=float32)"
      ]
     },
     "execution_count": 7,
     "metadata": {},
     "output_type": "execute_result"
    }
   ],
   "source": [
    "result = resnet50_no_opt_client.predict(\"predict_jpeg\", jpeg_image=jpeg_image)\n",
    "result.as_numpy(\"scores\")"
   ]
  },
  {
   "cell_type": "code",
   "execution_count": 8,
   "metadata": {},
   "outputs": [
    {
     "data": {
      "text/plain": [
       "array([0.00112505, 0.00112018, 0.0011232 , 0.00111902, 0.00112409,\n",
       "       0.00112959, 0.00112271, 0.00112237, 0.00112395, 0.00111984,\n",
       "       0.00112107, 0.00111215, 0.00112169, 0.00112546, 0.0011167 ,\n",
       "       0.0011223 , 0.00111827, 0.00111541, 0.00112945, 0.00112313,\n",
       "       0.00112518, 0.00111895, 0.00111957, 0.00112518, 0.00111991,\n",
       "       0.00111779, 0.00112141, 0.0011165 , 0.001121  , 0.00112429,\n",
       "       0.00112319, 0.00112656, 0.00112409, 0.00111957, 0.00111357,\n",
       "       0.00112945, 0.00112203, 0.00112141, 0.00111759, 0.00112594,\n",
       "       0.0011258 , 0.00112052, 0.00111691, 0.00111984, 0.00112608,\n",
       "       0.00112457, 0.00112409, 0.00112155, 0.00111936, 0.00112759,\n",
       "       0.00111725, 0.00111384, 0.00111588, 0.00111847, 0.00112135,\n",
       "       0.00111868, 0.00112299, 0.00112299, 0.00112491, 0.00112073,\n",
       "       0.00112217, 0.00111882, 0.00112333, 0.00112039, 0.00111779,\n",
       "       0.00112141, 0.00111479, 0.00111725, 0.00112182, 0.00112409,\n",
       "       0.00112203, 0.00111834, 0.00112005, 0.00112073, 0.00112121,\n",
       "       0.00112005, 0.00112333, 0.0011197 , 0.00112313, 0.00112073,\n",
       "       0.00112073, 0.00112656, 0.00112155, 0.00111296, 0.00112005,\n",
       "       0.00112155, 0.00112155, 0.00112285, 0.00111868, 0.00112422,\n",
       "       0.00112271, 0.00111609, 0.00111991, 0.00112319, 0.00111984,\n",
       "       0.00113007, 0.001115  , 0.00111827, 0.0011152 , 0.00111513],\n",
       "      dtype=float32)"
      ]
     },
     "execution_count": 8,
     "metadata": {},
     "output_type": "execute_result"
    }
   ],
   "source": [
    "resnet50_opt_client = ops.TritonSavedModelClient(\"resnet50-xla-amp\")\n",
    "result = resnet50_opt_client.predict(\"predict_images\", images=images)\n",
    "result.as_numpy(\"scores\")"
   ]
  },
  {
   "cell_type": "code",
   "execution_count": 9,
   "metadata": {},
   "outputs": [
    {
     "data": {
      "text/plain": [
       "array([0.00102032, 0.0010204 , 0.00102034, 0.00102034, 0.00102038,\n",
       "       0.0010204 , 0.0010203 , 0.00102038, 0.00102043, 0.0010203 ,\n",
       "       0.00102033, 0.00102034, 0.00102037, 0.00102029, 0.00102038,\n",
       "       0.00102037, 0.00102036, 0.00102034, 0.00102035, 0.00102037,\n",
       "       0.00102037, 0.00102038, 0.00102038, 0.00102038, 0.00102037,\n",
       "       0.00102036, 0.00102036, 0.00102036, 0.00102037, 0.00102033,\n",
       "       0.00102031, 0.00102036, 0.00102031, 0.00102029, 0.00102032,\n",
       "       0.00102037, 0.00102038, 0.00102033, 0.00102033, 0.00102035,\n",
       "       0.00102034, 0.00102039, 0.00102033, 0.00102035, 0.0010204 ,\n",
       "       0.00102033, 0.00102037, 0.00102033, 0.00102038, 0.00102037,\n",
       "       0.00102038, 0.00102037, 0.00102035, 0.00102039, 0.00102037,\n",
       "       0.0010204 , 0.00102032, 0.00102038, 0.00102036, 0.00102034,\n",
       "       0.00102038, 0.00102034, 0.00102036, 0.00102032, 0.00102033,\n",
       "       0.00102039, 0.00102042, 0.00102036, 0.00102041, 0.00102039,\n",
       "       0.00102037, 0.00102032, 0.00102034, 0.00102035, 0.00102037,\n",
       "       0.00102035, 0.00102036, 0.00102027, 0.00102037, 0.00102034,\n",
       "       0.00102038, 0.00102034, 0.00102036, 0.00102041, 0.00102035,\n",
       "       0.00102035, 0.00102037, 0.00102033, 0.00102032, 0.00102033,\n",
       "       0.00102034, 0.00102038, 0.00102037, 0.00102041, 0.00102038,\n",
       "       0.0010204 , 0.00102038, 0.00102034, 0.00102034, 0.00102034],\n",
       "      dtype=float32)"
      ]
     },
     "execution_count": 9,
     "metadata": {},
     "output_type": "execute_result"
    }
   ],
   "source": [
    "efficientnetb0_no_opt_client = ops.TritonSavedModelClient(\"efficientnetb0-no-opt\")\n",
    "result = efficientnetb0_no_opt_client.predict(\"predict_images\", images=images)\n",
    "result.as_numpy(\"scores\")"
   ]
  },
  {
   "cell_type": "code",
   "execution_count": 12,
   "metadata": {},
   "outputs": [
    {
     "data": {
      "text/plain": [
       "array([0.00102052, 0.00102068, 0.00102057, 0.00102057, 0.0010206 ,\n",
       "       0.00102065, 0.00102052, 0.00102065, 0.00102063, 0.00102052,\n",
       "       0.00102057, 0.00102056, 0.0010206 , 0.00102052, 0.0010206 ,\n",
       "       0.00102065, 0.00102062, 0.00102057, 0.00102057, 0.0010206 ,\n",
       "       0.0010206 , 0.00102056, 0.00102065, 0.0010206 , 0.0010206 ,\n",
       "       0.00102057, 0.0010206 , 0.00102056, 0.0010206 , 0.00102057,\n",
       "       0.00102057, 0.00102065, 0.00102048, 0.00102052, 0.00102057,\n",
       "       0.00102057, 0.00102065, 0.00102057, 0.0010206 , 0.00102057,\n",
       "       0.00102057, 0.00102065, 0.00102052, 0.00102057, 0.00102065,\n",
       "       0.00102057, 0.00102057, 0.00102048, 0.00102065, 0.0010206 ,\n",
       "       0.0010206 , 0.0010206 , 0.0010206 , 0.0010206 , 0.00102068,\n",
       "       0.00102065, 0.00102057, 0.0010206 , 0.00102062, 0.00102057,\n",
       "       0.00102065, 0.00102052, 0.0010206 , 0.00102057, 0.00102056,\n",
       "       0.00102065, 0.00102065, 0.0010206 , 0.00102065, 0.00102065,\n",
       "       0.00102063, 0.00102052, 0.00102057, 0.00102057, 0.00102056,\n",
       "       0.00102056, 0.00102062, 0.00102049, 0.00102056, 0.00102057,\n",
       "       0.00102065, 0.0010206 , 0.00102056, 0.00102063, 0.00102065,\n",
       "       0.0010206 , 0.0010206 , 0.00102057, 0.00102057, 0.00102057,\n",
       "       0.00102057, 0.0010206 , 0.00102065, 0.00102065, 0.00102065,\n",
       "       0.00102065, 0.0010206 , 0.0010206 , 0.0010206 , 0.00102057],\n",
       "      dtype=float32)"
      ]
     },
     "execution_count": 12,
     "metadata": {},
     "output_type": "execute_result"
    }
   ],
   "source": [
    "efficientnetb0_opt_client = ops.TritonSavedModelClient(\"efficientnetb0-xla-amp\")\n",
    "result = efficientnetb0_opt_client.predict(\"predict_images\", images=images)\n",
    "result.as_numpy(\"scores\")"
   ]
  },
  {
   "cell_type": "markdown",
   "metadata": {},
   "source": [
    "## benchmarks but with instance_group count = 1"
   ]
  },
  {
   "cell_type": "code",
   "execution_count": 11,
   "metadata": {},
   "outputs": [
    {
     "name": "stderr",
     "output_type": "stream",
     "text": [
      "resnet50-no-opt: 100%|██████████| 500/500 [01:13<00:00,  6.84it/s]\n",
      "resnet50-xla-amp: 100%|██████████| 500/500 [00:23<00:00, 20.94it/s]\n",
      "efficientnetb0-no-opt: 100%|██████████| 500/500 [00:54<00:00,  9.11it/s]\n",
      "efficientnetb0-xla-amp: 100%|██████████| 500/500 [00:17<00:00, 27.92it/s]\n"
     ]
    }
   ],
   "source": [
    "ops.benchmark_client(resnet50_no_opt_client, images)\n",
    "ops.benchmark_client(resnet50_opt_client, images)\n",
    "ops.benchmark_client(efficientnetb0_no_opt_client, images)\n",
    "ops.benchmark_client(efficientnetb0_opt_client, images)"
   ]
  },
  {
   "cell_type": "markdown",
   "metadata": {},
   "source": [
    "## benchmarks but with instance_group count = 2 \n",
    "It requires change in the [config.pbtxt](../models/saved_model/config.pbtxt) and server restart"
   ]
  },
  {
   "cell_type": "code",
   "execution_count": 13,
   "metadata": {},
   "outputs": [
    {
     "name": "stderr",
     "output_type": "stream",
     "text": [
      "resnet50-no-opt: 100%|██████████| 500/500 [01:16<00:00,  6.51it/s]\n",
      "resnet50-xla-amp: 100%|██████████| 500/500 [00:20<00:00, 24.10it/s]\n",
      "efficientnetb0-no-opt: 100%|██████████| 500/500 [00:54<00:00,  9.14it/s]\n",
      "efficientnetb0-xla-amp: 100%|██████████| 500/500 [00:13<00:00, 36.37it/s]\n"
     ]
    }
   ],
   "source": [
    "ops.benchmark_client(resnet50_no_opt_client, images)\n",
    "ops.benchmark_client(resnet50_opt_client, images)\n",
    "ops.benchmark_client(efficientnetb0_no_opt_client, images)\n",
    "ops.benchmark_client(efficientnetb0_opt_client, images)"
   ]
  },
  {
   "cell_type": "code",
   "execution_count": 14,
   "metadata": {},
   "outputs": [
    {
     "name": "stderr",
     "output_type": "stream",
     "text": [
      "100%|██████████| 500/500 [00:35<00:00, 14.19it/s]\n"
     ]
    }
   ],
   "source": [
    "ops.benchmark_clients((resnet50_opt_client, efficientnetb0_opt_client), images)"
   ]
  },
  {
   "cell_type": "markdown",
   "metadata": {},
   "source": [
    "# Testing TFServing\n",
    "```\n",
    "docker compose up tf_serving\n",
    "```"
   ]
  },
  {
   "cell_type": "code",
   "execution_count": 15,
   "metadata": {},
   "outputs": [
    {
     "data": {
      "text/plain": [
       "array([0.00112347, 0.00111938, 0.00112282, 0.00111921, 0.00112437,\n",
       "       0.00112868, 0.00112235, 0.00112249, 0.00112319, 0.00111921,\n",
       "       0.00112008, 0.00111161, 0.0011212 , 0.00112503, 0.00111673,\n",
       "       0.0011218 , 0.00111844, 0.001115  , 0.00112891, 0.00112266,\n",
       "       0.00112505, 0.00111806, 0.00111901, 0.001125  , 0.00111949,\n",
       "       0.0011174 , 0.00112132, 0.0011163 , 0.00112183, 0.00112356,\n",
       "       0.00112334, 0.00112505, 0.00112348, 0.00111869, 0.00111363,\n",
       "       0.00112868, 0.00112156, 0.00112057, 0.00111733, 0.00112499,\n",
       "       0.00112544, 0.00111915, 0.00111677, 0.00111873, 0.00112461,\n",
       "       0.00112377, 0.00112351, 0.00112111, 0.00111804, 0.00112716,\n",
       "       0.00111665, 0.00111384, 0.00111493, 0.001119  , 0.00112109,\n",
       "       0.00111768, 0.00112303, 0.00112228, 0.00112454, 0.00112079,\n",
       "       0.00112175, 0.00111884, 0.00112348, 0.00111964, 0.00111755,\n",
       "       0.00112049, 0.00111502, 0.00111681, 0.00112122, 0.00112348,\n",
       "       0.0011214 , 0.00111762, 0.00111999, 0.00112016, 0.0011204 ,\n",
       "       0.00111901, 0.00112282, 0.00111862, 0.00112228, 0.00111994,\n",
       "       0.00111942, 0.00112658, 0.00112102, 0.00111233, 0.00111981,\n",
       "       0.00112137, 0.001121  , 0.00112265, 0.00111731, 0.00112395,\n",
       "       0.00112293, 0.0011162 , 0.0011197 , 0.00112257, 0.00111951,\n",
       "       0.00112889, 0.00111437, 0.00111749, 0.00111429, 0.00111459])"
      ]
     },
     "execution_count": 15,
     "metadata": {},
     "output_type": "execute_result"
    }
   ],
   "source": [
    "resnet50_no_opt_client = ops.TFServingGRPCClient(\"resnet50-no-opt\")\n",
    "result = resnet50_no_opt_client.predict(\"predict_images\", images=images)\n",
    "outputs = {k: v for k, v in result.outputs.items()}\n",
    "scores = np.array(outputs[\"scores\"].float_val)\n",
    "scores"
   ]
  },
  {
   "cell_type": "code",
   "execution_count": 16,
   "metadata": {},
   "outputs": [],
   "source": [
    "# client = ops.TFServingGRPCClient(\"resnet50-xla-amp\")\n",
    "# result = client.predict(\"predict_images\", images=images)\n",
    "# UNIMPLEMENTED: Could not find compiler for platform CUDA: NOT_FOUND: could not find registered compiler for platform CUDA"
   ]
  },
  {
   "cell_type": "code",
   "execution_count": 17,
   "metadata": {},
   "outputs": [
    {
     "data": {
      "text/plain": [
       "array([0.00102034, 0.00102041, 0.00102036, 0.00102036, 0.00102039,\n",
       "       0.00102041, 0.00102031, 0.00102039, 0.00102045, 0.00102031,\n",
       "       0.00102035, 0.00102037, 0.00102038, 0.00102032, 0.00102039,\n",
       "       0.00102039, 0.00102038, 0.00102036, 0.00102037, 0.00102038,\n",
       "       0.00102038, 0.00102039, 0.00102039, 0.00102039, 0.00102038,\n",
       "       0.00102037, 0.00102037, 0.00102037, 0.00102038, 0.00102035,\n",
       "       0.00102032, 0.00102038, 0.00102032, 0.0010203 , 0.00102033,\n",
       "       0.00102039, 0.0010204 , 0.00102035, 0.00102035, 0.00102037,\n",
       "       0.00102036, 0.0010204 , 0.00102034, 0.00102036, 0.00102041,\n",
       "       0.00102034, 0.00102039, 0.00102035, 0.00102039, 0.00102039,\n",
       "       0.0010204 , 0.00102039, 0.00102037, 0.0010204 , 0.00102039,\n",
       "       0.00102041, 0.00102035, 0.00102038, 0.00102038, 0.00102035,\n",
       "       0.00102039, 0.00102036, 0.00102037, 0.00102034, 0.00102036,\n",
       "       0.0010204 , 0.00102042, 0.00102037, 0.00102041, 0.0010204 ,\n",
       "       0.00102039, 0.00102034, 0.00102036, 0.00102037, 0.00102039,\n",
       "       0.00102037, 0.00102038, 0.00102028, 0.00102039, 0.00102035,\n",
       "       0.00102039, 0.00102036, 0.00102037, 0.00102043, 0.00102038,\n",
       "       0.00102036, 0.00102038, 0.00102035, 0.00102034, 0.00102034,\n",
       "       0.00102036, 0.00102039, 0.00102039, 0.00102043, 0.00102039,\n",
       "       0.00102042, 0.0010204 , 0.00102036, 0.00102035, 0.00102035])"
      ]
     },
     "execution_count": 17,
     "metadata": {},
     "output_type": "execute_result"
    }
   ],
   "source": [
    "efficientnetb0_no_opt_client = ops.TFServingGRPCClient(\"efficientnetb0-no-opt\")\n",
    "result = efficientnetb0_no_opt_client.predict(\"predict_images\", images=images)\n",
    "outputs = {k: v for k, v in result.outputs.items()}\n",
    "scores = np.array(outputs[\"scores\"].float_val)\n",
    "scores"
   ]
  },
  {
   "cell_type": "code",
   "execution_count": 18,
   "metadata": {},
   "outputs": [
    {
     "name": "stderr",
     "output_type": "stream",
     "text": [
      "resnet50-no-opt: 100%|██████████| 500/500 [00:59<00:00,  8.35it/s]\n",
      "efficientnetb0-no-opt: 100%|██████████| 500/500 [00:51<00:00,  9.63it/s]\n"
     ]
    }
   ],
   "source": [
    "# OOM when allocating tensor with shape[100,56,56,256]  when using num_workers=10\n",
    "# UNIMPLEMENTED: Could not find compiler for platform CUDA: NOT_FOUNDm for XLA compiled models\n",
    "ops.benchmark_client(resnet50_no_opt_client, images)\n",
    "ops.benchmark_client(efficientnetb0_no_opt_client, images)"
   ]
  },
  {
   "cell_type": "code",
   "execution_count": null,
   "metadata": {},
   "outputs": [],
   "source": []
  },
  {
   "cell_type": "code",
   "execution_count": null,
   "metadata": {},
   "outputs": [],
   "source": []
  }
 ],
 "metadata": {
  "kernelspec": {
   "display_name": "ml3.11",
   "language": "python",
   "name": "python3"
  },
  "language_info": {
   "codemirror_mode": {
    "name": "ipython",
    "version": 3
   },
   "file_extension": ".py",
   "mimetype": "text/x-python",
   "name": "python",
   "nbconvert_exporter": "python",
   "pygments_lexer": "ipython3",
   "version": "3.11.4"
  }
 },
 "nbformat": 4,
 "nbformat_minor": 2
}
